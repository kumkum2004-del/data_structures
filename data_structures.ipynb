{
  "nbformat": 4,
  "nbformat_minor": 0,
  "metadata": {
    "colab": {
      "provenance": []
    },
    "kernelspec": {
      "name": "python3",
      "display_name": "Python 3"
    },
    "language_info": {
      "name": "python"
    }
  },
  "cells": [
    {
      "cell_type": "code",
      "execution_count": null,
      "metadata": {
        "id": "Z3EqkudNCRIz"
      },
      "outputs": [],
      "source": []
    },
    {
      "cell_type": "markdown",
      "source": [
        "# ques.1 what are data structures ?Why  are they important?\n",
        "  - A data structure is a way of organizing, storing, and managing data in a computer so that it can be accessed and modified efficiently and easily.\n",
        "  -> they are important because\n",
        "     - data structures saves memory\n",
        "     - handle large ammount of data\n",
        "     - make the code easy to understand,for better understanding\n",
        "\n",
        "# ques.2 Explain the difference between mutable and immutable data types with examples.\n",
        "  - mutable\n",
        "      - mutable means changeble.we can modify the data structures after they created.\n",
        "      -ex:- list,set,dictionary\n",
        "  - immutable\n",
        "      - immutables are unchangeble.they cannot be modified after they created.\n",
        "      -ex:-tuple,strings\n",
        "\n",
        "# ques.3 What are the main differences between lists and tuples in Python?\n",
        "  - basic difference between list and tuple is list are mutable and tuples are  immutable.we can modify lists after creation but in tuples we cannot.\n",
        "\n",
        "# ques.4 Describe how dictionaries store data?\n",
        "  - Dictionaries stores data in  key value pairs.\n",
        "  -for ex :- dict_name = {\"name\":\"kumkum\",\"surname\":\"sharma\"}\n",
        "\n",
        "# ques.5  Why might you use a set instead of a list in Python?\n",
        "  - set only stores unique data values and removes duplicate values ,so if  you want to asve only unique items,sets are ideal.\n",
        "\n",
        "#ques.6 What is a string in Python, and how is it different from a list?\n",
        "   - a string in python is a immutable data structure,which only stores sequence of characters\n",
        "   - on the other hand list are mutable,and they can store any type of values\n",
        "      - ex:- characters,neumeric,booleans\n",
        "\n",
        "#ques.7 How do tuples ensure data integrity in Python?\n",
        "   -tuples ensures data integrity because of their immutability.It helps keep the data protected from modification, and maintain originality>>once it created cannot be changed.\n",
        "\n",
        "#ques.8 What is a hash table, and how does it relate to dictionaries in Python?\n",
        "   - A hash table is a data structure,that stores key-value pair .\n",
        "   - dictionaries are also implemented using hash table.\n",
        "       -when a key-value pair is store in a dictionary.a unique hash is calculated for the key.and stores the value using hash.\n",
        "\n",
        "#ques.9 Can lists contain different data types in Python?\n",
        "   - yes,list acn contains different data types like, characters,integer,float,bolean etc.\n",
        "\n",
        "#ques.10  Explain why strings are immutable in Python.\n",
        "   - strings are immutable in python because they ensures security, efficient memory usage.\n",
        "\n",
        "#ques.11 What advantages do dictionaries offer over lists for certain tasks?\n",
        "   - dictionaries stores key-value pair .that's why data stores in more orgnised and understandable way.\n",
        "   - They are implemented using hash table.\n",
        "   -they allow direct access using keys.\n",
        "\n",
        "#ques.12  Describe a scenario where using a tuple would be preferable over a list.\n",
        "   - where data integrity and immutability are important.\n",
        "   - scenario\n",
        "       - when we have to store constant data like months in aa year or days in a week.\n",
        "\n",
        "#ques.13 How do sets handle duplicate values in Python?\n",
        "   - sets autometically removes duplicate values, and only allows unique elements.\n",
        "\n",
        "#ques.14 How does the “in” keyword work differently for lists and dictionaries?\n",
        "   - in the lists \"in\" keyword is used for checking if an sfecific element present or not.\n",
        "   - in dictionaries \"in\" keyword is used to check the presense of the key but not value among the key-value pairs.\n",
        "\n",
        "\n",
        "#ques.15 Can you modify the elements of a tuple? Explain why or why not?\n",
        "   - NO, you acnnot modify the elements of a tuple because tuples are immutable and they cannot be modified after they created.\n",
        "\n",
        "#ques.16 What is a nested dictionary, and give an example of its use case?\n",
        "   - a nested dictionary is a dictionary that contains one or more dictionary inside it.\n",
        "   - storing student data can be a use case of nested dictionary:-\n",
        "        - student_data = {\"student_1\":{\"name\":\"ajay\",\"course\":\"ds\"}\n",
        "                     ,\"stuent_2\":{\"name\":\"bijay\",\"course\":\"maths\"}}\n",
        "\n",
        "\n",
        "#ques.17 Describe the time complexity of accessing elements in a dictionary?\n",
        "    -  time complexity of accessing element in a dictionary:- o(1)\n",
        "\n",
        "#ques.18 In what situations are lists preferred over dictionaries?\n",
        "   - lists are preferred over dictionaries in the situations where task involves ordered or indexed data rather than key-value pairs.\n",
        "\n",
        "\n",
        "#ques.19 Why are dictionaries considered unordered, and how does that affect data retrieval?\n",
        "   - dictionaries are are considered unordered before python 3.7 because their insersion order is not gurruntee to preserve.this affects retrieval of data since since the order of retriveal is not predictable.\n",
        "\n",
        "#ques.20 Explain the difference between a list and a dictionary in terms of data retrieval.\n",
        "   - In lists data can be retrived using index value of each element.string sclicing can also be used.\n",
        "   - in dictionaries values can be retrived using keys but keys can not be retrived by using data values."
      ],
      "metadata": {
        "id": "5NUpjQbzDMrx"
      }
    },
    {
      "cell_type": "code",
      "source": [
        "# Write a code to create a string with your name and print it.\n",
        "my_name = \"Kumkum\"\n",
        "print(my_name)"
      ],
      "metadata": {
        "colab": {
          "base_uri": "https://localhost:8080/"
        },
        "id": "KHs-V_VL7eH3",
        "outputId": "aa87942a-f325-469e-fb9f-fc4c349c5bf3"
      },
      "execution_count": null,
      "outputs": [
        {
          "output_type": "stream",
          "name": "stdout",
          "text": [
            "Kumkum\n"
          ]
        }
      ]
    },
    {
      "cell_type": "code",
      "source": [
        "# Write a code to find the length of the string \"Hello World\".\n",
        "str_name = \"Hello World\"\n",
        "len(str_name)"
      ],
      "metadata": {
        "colab": {
          "base_uri": "https://localhost:8080/"
        },
        "id": "ZAKpP1AE78FX",
        "outputId": "49565988-6c74-4405-84d3-d6302db230cf"
      },
      "execution_count": null,
      "outputs": [
        {
          "output_type": "execute_result",
          "data": {
            "text/plain": [
              "11"
            ]
          },
          "metadata": {},
          "execution_count": 2
        }
      ]
    },
    {
      "cell_type": "code",
      "source": [
        "# Write a code to slice the first 3 characters from the string \"Python programming.\n",
        "s = \"python programming\"\n",
        "s[0:3]"
      ],
      "metadata": {
        "colab": {
          "base_uri": "https://localhost:8080/",
          "height": 36
        },
        "id": "4mzMEU7X88Bo",
        "outputId": "601d8a6e-328c-458a-a670-8180de929f63"
      },
      "execution_count": null,
      "outputs": [
        {
          "output_type": "execute_result",
          "data": {
            "text/plain": [
              "'pyt'"
            ],
            "application/vnd.google.colaboratory.intrinsic+json": {
              "type": "string"
            }
          },
          "metadata": {},
          "execution_count": 4
        }
      ]
    },
    {
      "cell_type": "code",
      "source": [
        "# Write a code to convert the string \"hello\" to uppercase.\n",
        "s = \"hello\"\n",
        "s.upper()"
      ],
      "metadata": {
        "colab": {
          "base_uri": "https://localhost:8080/",
          "height": 36
        },
        "id": "iAS0dZR49nf8",
        "outputId": "6bce2d4c-63cc-4e00-b7c8-ff34199b030c"
      },
      "execution_count": null,
      "outputs": [
        {
          "output_type": "execute_result",
          "data": {
            "text/plain": [
              "'HELLO'"
            ],
            "application/vnd.google.colaboratory.intrinsic+json": {
              "type": "string"
            }
          },
          "metadata": {},
          "execution_count": 5
        }
      ]
    },
    {
      "cell_type": "code",
      "source": [
        "# Write a code to replace the word \"apple\" with \"orange\" in the string \"I like apple\".\n",
        "s = \"I like apple\"\n",
        "s.replace(\"apple\",\"orange\")\n"
      ],
      "metadata": {
        "colab": {
          "base_uri": "https://localhost:8080/",
          "height": 36
        },
        "id": "N7odb8DH-P3s",
        "outputId": "dedb48bc-7e91-41b0-b031-bab3435ac4ae"
      },
      "execution_count": null,
      "outputs": [
        {
          "output_type": "execute_result",
          "data": {
            "text/plain": [
              "'I like orange'"
            ],
            "application/vnd.google.colaboratory.intrinsic+json": {
              "type": "string"
            }
          },
          "metadata": {},
          "execution_count": 6
        }
      ]
    },
    {
      "cell_type": "code",
      "source": [
        "# Write a code to create a list with numbers 1 to 5 and print it.\n",
        "lis = []\n",
        "for i in range(1,6):\n",
        "  lis.append(i)\n",
        "print(lis)"
      ],
      "metadata": {
        "colab": {
          "base_uri": "https://localhost:8080/"
        },
        "id": "BJXjv-8z_ToD",
        "outputId": "0d2afee1-8172-4a12-8d85-59b1ec3416a4"
      },
      "execution_count": null,
      "outputs": [
        {
          "output_type": "stream",
          "name": "stdout",
          "text": [
            "[1, 2, 3, 4, 5]\n"
          ]
        }
      ]
    },
    {
      "cell_type": "code",
      "source": [
        "# Write a code to append the number 10 to the list [1, 2, 3, 4].\n",
        "lis = [1,2,3,4]\n",
        "lis.append(10)\n",
        "lis"
      ],
      "metadata": {
        "colab": {
          "base_uri": "https://localhost:8080/"
        },
        "id": "bljGOP2zAVRW",
        "outputId": "81a11954-71f9-45ec-f2f3-88d422dd5f82"
      },
      "execution_count": null,
      "outputs": [
        {
          "output_type": "execute_result",
          "data": {
            "text/plain": [
              "[1, 2, 3, 4, 10]"
            ]
          },
          "metadata": {},
          "execution_count": 9
        }
      ]
    },
    {
      "cell_type": "code",
      "source": [
        "# Write a code to remove the number 3 from the list [1, 2, 3, 4, 5].\n",
        "lis = [1,2,3,4,5]\n",
        "lis.remove(3)\n",
        "lis"
      ],
      "metadata": {
        "colab": {
          "base_uri": "https://localhost:8080/"
        },
        "id": "Whc_tLYCAqI-",
        "outputId": "f7fe261c-535b-477f-941b-cda62a41a417"
      },
      "execution_count": null,
      "outputs": [
        {
          "output_type": "execute_result",
          "data": {
            "text/plain": [
              "[1, 2, 4, 5]"
            ]
          },
          "metadata": {},
          "execution_count": 10
        }
      ]
    },
    {
      "cell_type": "code",
      "source": [
        "# Write a code to access the second element in the list ['a', 'b', 'c', 'd'].\n",
        "lis = ['a','b','c','d']\n",
        "lis[1]\n"
      ],
      "metadata": {
        "colab": {
          "base_uri": "https://localhost:8080/",
          "height": 36
        },
        "id": "y8-1cSdMA6jS",
        "outputId": "be7ac3f3-e017-4a22-f6c4-fdc141293010"
      },
      "execution_count": null,
      "outputs": [
        {
          "output_type": "execute_result",
          "data": {
            "text/plain": [
              "'b'"
            ],
            "application/vnd.google.colaboratory.intrinsic+json": {
              "type": "string"
            }
          },
          "metadata": {},
          "execution_count": 11
        }
      ]
    },
    {
      "cell_type": "code",
      "source": [
        "#  Write a code to reverse the list [10, 20, 30, 40, 50].\n",
        "lis = [10,20,30,40,50]\n",
        "lis[::-1]"
      ],
      "metadata": {
        "colab": {
          "base_uri": "https://localhost:8080/"
        },
        "id": "gmDbipaTBaMC",
        "outputId": "229124ff-90a9-4cd6-ea0f-b7734a8548ec"
      },
      "execution_count": null,
      "outputs": [
        {
          "output_type": "execute_result",
          "data": {
            "text/plain": [
              "[50, 40, 30, 20, 10]"
            ]
          },
          "metadata": {},
          "execution_count": 12
        }
      ]
    },
    {
      "cell_type": "code",
      "source": [
        "# Write a code to create a tuple with the elements 100, 200, 300 and print it.\n",
        "t = (100,200,300)\n",
        "print(t)"
      ],
      "metadata": {
        "colab": {
          "base_uri": "https://localhost:8080/"
        },
        "id": "csHPmdDkBq-T",
        "outputId": "a82394da-fab4-44bb-8021-ed59a85dd5fb"
      },
      "execution_count": null,
      "outputs": [
        {
          "output_type": "stream",
          "name": "stdout",
          "text": [
            "(100, 200, 300)\n"
          ]
        }
      ]
    },
    {
      "cell_type": "code",
      "source": [
        "# Write a code to access the second-to-last element of the tuple ('red', 'green', 'blue', 'yellow').\n",
        "t = ('red','green','blue','yellow')\n",
        "t[-2]"
      ],
      "metadata": {
        "colab": {
          "base_uri": "https://localhost:8080/",
          "height": 36
        },
        "id": "uWl2oOniCV5-",
        "outputId": "ff0f63a5-6d21-4f09-f0eb-174c4a1ed21d"
      },
      "execution_count": null,
      "outputs": [
        {
          "output_type": "execute_result",
          "data": {
            "text/plain": [
              "'blue'"
            ],
            "application/vnd.google.colaboratory.intrinsic+json": {
              "type": "string"
            }
          },
          "metadata": {},
          "execution_count": 14
        }
      ]
    },
    {
      "cell_type": "code",
      "source": [
        "# Write a code to find the minimum number in the tuple (10, 20, 5, 15).\n",
        "t = (10,20,5,15)\n",
        "min(t)"
      ],
      "metadata": {
        "colab": {
          "base_uri": "https://localhost:8080/"
        },
        "id": "Jv1bI5rhC7Nl",
        "outputId": "7599648b-a56d-400c-e139-403fde986fba"
      },
      "execution_count": null,
      "outputs": [
        {
          "output_type": "execute_result",
          "data": {
            "text/plain": [
              "5"
            ]
          },
          "metadata": {},
          "execution_count": 16
        }
      ]
    },
    {
      "cell_type": "code",
      "source": [
        "# Write a code to find the index of the element \"cat\" in the tuple ('dog', 'cat', 'rabbit').\n",
        "t = ('dog','cat','rabbit')\n",
        "t.index(\"cat\")"
      ],
      "metadata": {
        "colab": {
          "base_uri": "https://localhost:8080/"
        },
        "id": "U1D63dGgDZgY",
        "outputId": "43d243b8-305f-4d31-f88e-7cf2c8922260"
      },
      "execution_count": null,
      "outputs": [
        {
          "output_type": "execute_result",
          "data": {
            "text/plain": [
              "1"
            ]
          },
          "metadata": {},
          "execution_count": 17
        }
      ]
    },
    {
      "cell_type": "code",
      "source": [
        "# Write a code to create a tuple containing three different fruits and check if \"kiwi\" is in it.\n",
        "fruits_name = ('apple','kiwi','banana')\n",
        "'kiwi' in fruits_name"
      ],
      "metadata": {
        "colab": {
          "base_uri": "https://localhost:8080/"
        },
        "id": "gmsIE7veDyik",
        "outputId": "9f180c4a-bd8d-417e-ed4d-b9c550f2ae69"
      },
      "execution_count": null,
      "outputs": [
        {
          "output_type": "execute_result",
          "data": {
            "text/plain": [
              "True"
            ]
          },
          "metadata": {},
          "execution_count": 18
        }
      ]
    },
    {
      "cell_type": "code",
      "source": [
        "# Write a code to create a set with the elements 'a', 'b', 'c' and print it.\n",
        "s = {'a','b','c'}\n",
        "s"
      ],
      "metadata": {
        "colab": {
          "base_uri": "https://localhost:8080/"
        },
        "id": "EsYq4drpEVFD",
        "outputId": "3db63703-feb6-4606-f5c8-7c60a007ac24"
      },
      "execution_count": null,
      "outputs": [
        {
          "output_type": "execute_result",
          "data": {
            "text/plain": [
              "{'a', 'b', 'c'}"
            ]
          },
          "metadata": {},
          "execution_count": 19
        }
      ]
    },
    {
      "cell_type": "code",
      "source": [
        "# Write a code to clear all elements from the set {1, 2, 3, 4, 5}.\n",
        "s = {1,2,3,4,5}\n",
        "s.clear()\n",
        "s"
      ],
      "metadata": {
        "colab": {
          "base_uri": "https://localhost:8080/"
        },
        "id": "Lz-B8TrH0dZZ",
        "outputId": "4b1cc185-e9ff-4546-f92b-99800ec33ffa"
      },
      "execution_count": 1,
      "outputs": [
        {
          "output_type": "execute_result",
          "data": {
            "text/plain": [
              "set()"
            ]
          },
          "metadata": {},
          "execution_count": 1
        }
      ]
    },
    {
      "cell_type": "code",
      "source": [
        "#  Write a code to remove the element 4 from the set {1, 2, 3, 4}.\n",
        "s = {1,2,3,4,5}\n",
        "s.remove(4)\n",
        "s"
      ],
      "metadata": {
        "colab": {
          "base_uri": "https://localhost:8080/"
        },
        "id": "MflDcEp90yMv",
        "outputId": "1f80c8d4-b0cd-4645-e750-2b9a07e1448e"
      },
      "execution_count": 4,
      "outputs": [
        {
          "output_type": "execute_result",
          "data": {
            "text/plain": [
              "{1, 2, 3, 5}"
            ]
          },
          "metadata": {},
          "execution_count": 4
        }
      ]
    },
    {
      "cell_type": "code",
      "source": [
        "# Write a code to find the union of two sets {1, 2, 3} and {3, 4, 5}.\n",
        "s1 = {1,2,3}\n",
        "s2 = {3,4,5}\n",
        "s1 | s2"
      ],
      "metadata": {
        "colab": {
          "base_uri": "https://localhost:8080/"
        },
        "id": "AeoQvdCy1ROK",
        "outputId": "ac10a478-e2cd-47b8-e41d-641d6208830d"
      },
      "execution_count": 6,
      "outputs": [
        {
          "output_type": "execute_result",
          "data": {
            "text/plain": [
              "{1, 2, 3, 4, 5}"
            ]
          },
          "metadata": {},
          "execution_count": 6
        }
      ]
    },
    {
      "cell_type": "code",
      "source": [
        "# Write a code to find the intersection of two sets {1, 2, 3} and {2, 3, 4}.\n",
        "s1 = {1,2,3}\n",
        "s2 = {2,3,4}\n",
        "s1 & s2"
      ],
      "metadata": {
        "colab": {
          "base_uri": "https://localhost:8080/"
        },
        "id": "uNGFWkkf1q-w",
        "outputId": "93a9e0e5-7eca-4137-cd2f-37db2b008ceb"
      },
      "execution_count": 7,
      "outputs": [
        {
          "output_type": "execute_result",
          "data": {
            "text/plain": [
              "{2, 3}"
            ]
          },
          "metadata": {},
          "execution_count": 7
        }
      ]
    },
    {
      "cell_type": "code",
      "source": [
        "# Write a code to create a dictionary with the keys \"name\", \"age\", and \"city\", and print it.\n",
        "address = {\"name\":\"kumkum\",\"age\":56,\"city\":\"ahamdabad\"}\n",
        "address"
      ],
      "metadata": {
        "colab": {
          "base_uri": "https://localhost:8080/"
        },
        "id": "CT8srGIO16nb",
        "outputId": "d52d3a90-95ba-4646-8144-db76167d6f7c"
      },
      "execution_count": 8,
      "outputs": [
        {
          "output_type": "execute_result",
          "data": {
            "text/plain": [
              "{'name': 'kumkum', 'age': 56, 'city': 'ahamdabad'}"
            ]
          },
          "metadata": {},
          "execution_count": 8
        }
      ]
    },
    {
      "cell_type": "code",
      "source": [
        "# Write a code to add a new key-value pair \"country\": \"USA\" to the dictionary {'name': 'John', 'age': 25}.\n",
        "address = {'name': 'John', 'age': 25}\n",
        "address[\"country\"] = \"USA\"\n",
        "address"
      ],
      "metadata": {
        "colab": {
          "base_uri": "https://localhost:8080/"
        },
        "id": "gs1gihFv2ZBz",
        "outputId": "73039c2e-07f2-4c53-ab4e-ac7185ad0b93"
      },
      "execution_count": 9,
      "outputs": [
        {
          "output_type": "execute_result",
          "data": {
            "text/plain": [
              "{'name': 'John', 'age': 25, 'country': 'USA'}"
            ]
          },
          "metadata": {},
          "execution_count": 9
        }
      ]
    },
    {
      "cell_type": "code",
      "source": [
        "# Write a code to access the value associated with the key \"name\" in the dictionary {'name': 'Alice', 'age': 30}.\n",
        "d = {'name': 'Alice', 'age': 30}\n",
        "d[\"name\"]"
      ],
      "metadata": {
        "colab": {
          "base_uri": "https://localhost:8080/",
          "height": 36
        },
        "id": "Xh5CTkbJ3JDa",
        "outputId": "ddcc0541-236c-4dd0-e24a-9d8fe4445222"
      },
      "execution_count": 10,
      "outputs": [
        {
          "output_type": "execute_result",
          "data": {
            "text/plain": [
              "'Alice'"
            ],
            "application/vnd.google.colaboratory.intrinsic+json": {
              "type": "string"
            }
          },
          "metadata": {},
          "execution_count": 10
        }
      ]
    },
    {
      "cell_type": "code",
      "source": [
        "# Write a code to remove the key \"age\" from the dictionary {'name': 'Bob', 'age': 22, 'city': 'New York'}.\n",
        "identity = {'name': 'Bob', 'age': 22, 'city': 'New York'}\n",
        "del identity[\"age\"]\n",
        "identity"
      ],
      "metadata": {
        "colab": {
          "base_uri": "https://localhost:8080/"
        },
        "id": "N_L9dD6F3dLF",
        "outputId": "9efa40c9-a711-422e-9528-e6c0454bd055"
      },
      "execution_count": 11,
      "outputs": [
        {
          "output_type": "execute_result",
          "data": {
            "text/plain": [
              "{'name': 'Bob', 'city': 'New York'}"
            ]
          },
          "metadata": {},
          "execution_count": 11
        }
      ]
    },
    {
      "cell_type": "code",
      "source": [
        "# Write a code to check if the key \"city\" exists in the dictionary {'name': 'Alice', 'city': 'Paris'}.\n",
        "d = {'name': 'Alice', 'city': 'Paris'}\n",
        "\"city\" in d"
      ],
      "metadata": {
        "colab": {
          "base_uri": "https://localhost:8080/"
        },
        "id": "ncLgIaUv3_DL",
        "outputId": "3f9956dc-c9f9-44b8-91c8-b559258a397b"
      },
      "execution_count": 12,
      "outputs": [
        {
          "output_type": "execute_result",
          "data": {
            "text/plain": [
              "True"
            ]
          },
          "metadata": {},
          "execution_count": 12
        }
      ]
    },
    {
      "cell_type": "code",
      "source": [
        "# Write a code to create a list, a tuple, and a dictionary, and print them all.\n",
        "my_list = [1,2,3,4,5]\n",
        "my_tuple = (6,7,8,9)\n",
        "my_dict ={'name': 'Alice', 'city': 'Paris'}\n",
        "print(\"list:\",my_list)\n",
        "print(\"tuple:\",my_tuple)\n",
        "print(\"dictionary:\",my_dict)"
      ],
      "metadata": {
        "colab": {
          "base_uri": "https://localhost:8080/"
        },
        "id": "sqKYMgKJ4mYT",
        "outputId": "8eadde60-1262-4762-cc58-793048b48f54"
      },
      "execution_count": 13,
      "outputs": [
        {
          "output_type": "stream",
          "name": "stdout",
          "text": [
            "list: [1, 2, 3, 4, 5]\n",
            "tuple: (6, 7, 8, 9)\n",
            "dictionary: {'name': 'Alice', 'city': 'Paris'}\n"
          ]
        }
      ]
    },
    {
      "cell_type": "code",
      "source": [
        "#  Write a code to create a list of 5 random numbers between 1 and 100, sort it in ascending order, and print the result.(replaced)\n",
        "my_list = [35,63,32,19,78]\n",
        "sorted(my_list)"
      ],
      "metadata": {
        "colab": {
          "base_uri": "https://localhost:8080/"
        },
        "id": "4o3Raz2k5qwd",
        "outputId": "0dc43fcd-07a3-4a0b-f6bb-9f9d1693b772"
      },
      "execution_count": 14,
      "outputs": [
        {
          "output_type": "execute_result",
          "data": {
            "text/plain": [
              "[19, 32, 35, 63, 78]"
            ]
          },
          "metadata": {},
          "execution_count": 14
        }
      ]
    },
    {
      "cell_type": "code",
      "source": [
        "# Write a code to create a list with strings and print the element at the third index.\n",
        "fruits = [\"apple\",\"banana\",\"mango\",\"papaya\"]\n",
        "fruits[3]"
      ],
      "metadata": {
        "colab": {
          "base_uri": "https://localhost:8080/",
          "height": 36
        },
        "id": "tUmm5XOY6F3E",
        "outputId": "e588e7e1-6e1f-4637-a382-e405006bdc65"
      },
      "execution_count": 15,
      "outputs": [
        {
          "output_type": "execute_result",
          "data": {
            "text/plain": [
              "'papaya'"
            ],
            "application/vnd.google.colaboratory.intrinsic+json": {
              "type": "string"
            }
          },
          "metadata": {},
          "execution_count": 15
        }
      ]
    },
    {
      "cell_type": "code",
      "source": [
        "# Write a code to combine two dictionaries into one and print the result.\n",
        "d1 = {\"a\":1,\"b\":2}\n",
        "d2 = {\"c\":3,\"d\":4}\n",
        "d1.update(d2)\n",
        "d1"
      ],
      "metadata": {
        "colab": {
          "base_uri": "https://localhost:8080/"
        },
        "id": "ID1rH2M86gma",
        "outputId": "babfca17-cd06-41a9-fa3e-da9184205622"
      },
      "execution_count": 16,
      "outputs": [
        {
          "output_type": "execute_result",
          "data": {
            "text/plain": [
              "{'a': 1, 'b': 2, 'c': 3, 'd': 4}"
            ]
          },
          "metadata": {},
          "execution_count": 16
        }
      ]
    },
    {
      "cell_type": "code",
      "source": [
        "# Write a code to convert a list of strings into a set.\n",
        "fruits = [\"mango\",\"papaya\",\"apple\",\"banana\",\"mango\",\"papaya\"]\n",
        "set(fruits)"
      ],
      "metadata": {
        "colab": {
          "base_uri": "https://localhost:8080/"
        },
        "id": "3dIH02hu7Ii5",
        "outputId": "c8666bae-7290-42e9-8b54-4e4645f91d5a"
      },
      "execution_count": 17,
      "outputs": [
        {
          "output_type": "execute_result",
          "data": {
            "text/plain": [
              "{'apple', 'banana', 'mango', 'papaya'}"
            ]
          },
          "metadata": {},
          "execution_count": 17
        }
      ]
    }
  ]
}